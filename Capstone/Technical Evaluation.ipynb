{
 "cells": [
  {
   "cell_type": "markdown",
   "metadata": {},
   "source": [
    "# Technical Evaluation\n",
    "\n",
    "### Dataset: Plan Crashes"
   ]
  },
  {
   "cell_type": "code",
   "execution_count": 1,
   "metadata": {
    "collapsed": true
   },
   "outputs": [],
   "source": [
    "import numpy as np\n",
    "import pandas as pd\n",
    "import matplotlib.pyplot as plt\n",
    "\n",
    "%matplotlib inline"
   ]
  },
  {
   "cell_type": "markdown",
   "metadata": {},
   "source": [
    "## Bad Data Discovery"
   ]
  },
  {
   "cell_type": "code",
   "execution_count": 2,
   "metadata": {
    "collapsed": false
   },
   "outputs": [
    {
     "data": {
      "text/html": [
       "<div>\n",
       "<table border=\"1\" class=\"dataframe\">\n",
       "  <thead>\n",
       "    <tr style=\"text-align: right;\">\n",
       "      <th></th>\n",
       "      <th>month</th>\n",
       "      <th>hour</th>\n",
       "      <th>year</th>\n",
       "      <th>location</th>\n",
       "      <th>operator</th>\n",
       "      <th>route</th>\n",
       "      <th>type</th>\n",
       "      <th>aboard</th>\n",
       "      <th>fatalities</th>\n",
       "      <th>summary</th>\n",
       "    </tr>\n",
       "  </thead>\n",
       "  <tbody>\n",
       "    <tr>\n",
       "      <th>0</th>\n",
       "      <td>1</td>\n",
       "      <td>12</td>\n",
       "      <td>1950</td>\n",
       "      <td>Near Vacas, Bolivia</td>\n",
       "      <td>Military - Bolivian Air Force</td>\n",
       "      <td>Valle grande - Cochabamba</td>\n",
       "      <td>Douglas C-47</td>\n",
       "      <td>32</td>\n",
       "      <td>32</td>\n",
       "      <td>Crashed while en route in the Andes mountains ...</td>\n",
       "    </tr>\n",
       "    <tr>\n",
       "      <th>1</th>\n",
       "      <td>3</td>\n",
       "      <td>20</td>\n",
       "      <td>1950</td>\n",
       "      <td>Minneapolis, Minnesota</td>\n",
       "      <td>Northwest Orient Airlines</td>\n",
       "      <td>Rochester Minn. - Minneapolis</td>\n",
       "      <td>Martin 202</td>\n",
       "      <td>13</td>\n",
       "      <td>13</td>\n",
       "      <td>Crashed into a flag pole, well marked by red n...</td>\n",
       "    </tr>\n",
       "    <tr>\n",
       "      <th>2</th>\n",
       "      <td>3</td>\n",
       "      <td>14</td>\n",
       "      <td>1950</td>\n",
       "      <td>Llandow Airport, Cardiff, Wales</td>\n",
       "      <td>Fairflight Ltd.</td>\n",
       "      <td>Llandow - Dublin</td>\n",
       "      <td>Avro 689 Tudor 5</td>\n",
       "      <td>83</td>\n",
       "      <td>80</td>\n",
       "      <td>During the approach to Runway 28 at Llandow Ai...</td>\n",
       "    </tr>\n",
       "    <tr>\n",
       "      <th>3</th>\n",
       "      <td>4</td>\n",
       "      <td>23</td>\n",
       "      <td>1950</td>\n",
       "      <td>Near Atsugi, Japan</td>\n",
       "      <td>Military - U.S. Air Force</td>\n",
       "      <td>Philippines - Japan</td>\n",
       "      <td>Douglas C-54D</td>\n",
       "      <td>35</td>\n",
       "      <td>35</td>\n",
       "      <td>Flew off its prescribed course and crashed int...</td>\n",
       "    </tr>\n",
       "    <tr>\n",
       "      <th>4</th>\n",
       "      <td>5</td>\n",
       "      <td>20</td>\n",
       "      <td>1950</td>\n",
       "      <td>Lagens Air Force Base, Azores</td>\n",
       "      <td>Military - U.S. Air Force</td>\n",
       "      <td>Bermuda - England</td>\n",
       "      <td>Boeing B-29</td>\n",
       "      <td>16</td>\n",
       "      <td>16</td>\n",
       "      <td>Crashed while attempting to land after being d...</td>\n",
       "    </tr>\n",
       "  </tbody>\n",
       "</table>\n",
       "</div>"
      ],
      "text/plain": [
       "   month hour  year                         location  \\\n",
       "0      1   12  1950              Near Vacas, Bolivia   \n",
       "1      3   20  1950           Minneapolis, Minnesota   \n",
       "2      3   14  1950  Llandow Airport, Cardiff, Wales   \n",
       "3      4   23  1950               Near Atsugi, Japan   \n",
       "4      5   20  1950    Lagens Air Force Base, Azores   \n",
       "\n",
       "                        operator                          route  \\\n",
       "0  Military - Bolivian Air Force      Valle grande - Cochabamba   \n",
       "1      Northwest Orient Airlines  Rochester Minn. - Minneapolis   \n",
       "2                Fairflight Ltd.               Llandow - Dublin   \n",
       "3      Military - U.S. Air Force            Philippines - Japan   \n",
       "4      Military - U.S. Air Force              Bermuda - England   \n",
       "\n",
       "               type  aboard  fatalities  \\\n",
       "0      Douglas C-47      32          32   \n",
       "1        Martin 202      13          13   \n",
       "2  Avro 689 Tudor 5      83          80   \n",
       "3     Douglas C-54D      35          35   \n",
       "4       Boeing B-29      16          16   \n",
       "\n",
       "                                             summary  \n",
       "0  Crashed while en route in the Andes mountains ...  \n",
       "1  Crashed into a flag pole, well marked by red n...  \n",
       "2  During the approach to Runway 28 at Llandow Ai...  \n",
       "3  Flew off its prescribed course and crashed int...  \n",
       "4  Crashed while attempting to land after being d...  "
      ]
     },
     "execution_count": 2,
     "metadata": {},
     "output_type": "execute_result"
    }
   ],
   "source": [
    "#Read Data\n",
    "data = pd.read_csv('plane_crashes_data.csv')\n",
    "data.head()"
   ]
  },
  {
   "cell_type": "code",
   "execution_count": 37,
   "metadata": {
    "collapsed": false
   },
   "outputs": [
    {
     "data": {
      "text/plain": [
       "138180000.00000003"
      ]
     },
     "execution_count": 37,
     "metadata": {},
     "output_type": "execute_result"
    }
   ],
   "source": [
    "((1/50)*(1/49)*(1/48)*(1/47)*(1/25))**-1"
   ]
  },
  {
   "cell_type": "code",
   "execution_count": 7,
   "metadata": {
    "collapsed": false
   },
   "outputs": [
    {
     "name": "stdout",
     "output_type": "stream",
     "text": [
      "<class 'pandas.core.frame.DataFrame'>\n",
      "RangeIndex: 2709 entries, 0 to 2708\n",
      "Data columns (total 10 columns):\n",
      "month         2709 non-null int64\n",
      "hour          2709 non-null object\n",
      "year          2709 non-null int64\n",
      "location      2706 non-null object\n",
      "operator      2707 non-null object\n",
      "route         2318 non-null object\n",
      "type          2708 non-null object\n",
      "aboard        2709 non-null int64\n",
      "fatalities    2709 non-null int64\n",
      "summary       2696 non-null object\n",
      "dtypes: int64(4), object(6)\n",
      "memory usage: 211.7+ KB\n"
     ]
    }
   ],
   "source": [
    "data.info()"
   ]
  },
  {
   "cell_type": "code",
   "execution_count": 28,
   "metadata": {
    "collapsed": false
   },
   "outputs": [
    {
     "data": {
      "text/plain": [
       "24.932607215793055"
      ]
     },
     "execution_count": 28,
     "metadata": {},
     "output_type": "execute_result"
    }
   ],
   "source": [
    "#Mean Number of people killed in plan crashes for the years 1980 to 2009\n",
    "data[data['year']>=1980]['fatalities'].mean()"
   ]
  },
  {
   "cell_type": "code",
   "execution_count": 18,
   "metadata": {
    "collapsed": false
   },
   "outputs": [
    {
     "data": {
      "text/html": [
       "<div>\n",
       "<table border=\"1\" class=\"dataframe\">\n",
       "  <thead>\n",
       "    <tr style=\"text-align: right;\">\n",
       "      <th></th>\n",
       "      <th>hour</th>\n",
       "      <th>year</th>\n",
       "      <th>location</th>\n",
       "      <th>operator</th>\n",
       "      <th>route</th>\n",
       "      <th>type</th>\n",
       "      <th>aboard</th>\n",
       "      <th>fatalities</th>\n",
       "      <th>summary</th>\n",
       "    </tr>\n",
       "    <tr>\n",
       "      <th>month</th>\n",
       "      <th></th>\n",
       "      <th></th>\n",
       "      <th></th>\n",
       "      <th></th>\n",
       "      <th></th>\n",
       "      <th></th>\n",
       "      <th></th>\n",
       "      <th></th>\n",
       "      <th></th>\n",
       "    </tr>\n",
       "  </thead>\n",
       "  <tbody>\n",
       "    <tr>\n",
       "      <th>1</th>\n",
       "      <td>255</td>\n",
       "      <td>255</td>\n",
       "      <td>255</td>\n",
       "      <td>255</td>\n",
       "      <td>220</td>\n",
       "      <td>255</td>\n",
       "      <td>255</td>\n",
       "      <td>255</td>\n",
       "      <td>252</td>\n",
       "    </tr>\n",
       "    <tr>\n",
       "      <th>2</th>\n",
       "      <td>209</td>\n",
       "      <td>209</td>\n",
       "      <td>208</td>\n",
       "      <td>209</td>\n",
       "      <td>180</td>\n",
       "      <td>209</td>\n",
       "      <td>209</td>\n",
       "      <td>209</td>\n",
       "      <td>209</td>\n",
       "    </tr>\n",
       "    <tr>\n",
       "      <th>3</th>\n",
       "      <td>251</td>\n",
       "      <td>251</td>\n",
       "      <td>250</td>\n",
       "      <td>250</td>\n",
       "      <td>208</td>\n",
       "      <td>251</td>\n",
       "      <td>251</td>\n",
       "      <td>251</td>\n",
       "      <td>250</td>\n",
       "    </tr>\n",
       "    <tr>\n",
       "      <th>4</th>\n",
       "      <td>204</td>\n",
       "      <td>204</td>\n",
       "      <td>204</td>\n",
       "      <td>204</td>\n",
       "      <td>163</td>\n",
       "      <td>203</td>\n",
       "      <td>204</td>\n",
       "      <td>204</td>\n",
       "      <td>204</td>\n",
       "    </tr>\n",
       "    <tr>\n",
       "      <th>5</th>\n",
       "      <td>181</td>\n",
       "      <td>181</td>\n",
       "      <td>180</td>\n",
       "      <td>181</td>\n",
       "      <td>158</td>\n",
       "      <td>181</td>\n",
       "      <td>181</td>\n",
       "      <td>181</td>\n",
       "      <td>179</td>\n",
       "    </tr>\n",
       "    <tr>\n",
       "      <th>6</th>\n",
       "      <td>202</td>\n",
       "      <td>202</td>\n",
       "      <td>202</td>\n",
       "      <td>202</td>\n",
       "      <td>174</td>\n",
       "      <td>202</td>\n",
       "      <td>202</td>\n",
       "      <td>202</td>\n",
       "      <td>200</td>\n",
       "    </tr>\n",
       "    <tr>\n",
       "      <th>7</th>\n",
       "      <td>234</td>\n",
       "      <td>234</td>\n",
       "      <td>234</td>\n",
       "      <td>234</td>\n",
       "      <td>202</td>\n",
       "      <td>234</td>\n",
       "      <td>234</td>\n",
       "      <td>234</td>\n",
       "      <td>234</td>\n",
       "    </tr>\n",
       "    <tr>\n",
       "      <th>8</th>\n",
       "      <td>239</td>\n",
       "      <td>239</td>\n",
       "      <td>239</td>\n",
       "      <td>239</td>\n",
       "      <td>211</td>\n",
       "      <td>239</td>\n",
       "      <td>239</td>\n",
       "      <td>239</td>\n",
       "      <td>238</td>\n",
       "    </tr>\n",
       "    <tr>\n",
       "      <th>9</th>\n",
       "      <td>228</td>\n",
       "      <td>228</td>\n",
       "      <td>228</td>\n",
       "      <td>228</td>\n",
       "      <td>200</td>\n",
       "      <td>228</td>\n",
       "      <td>228</td>\n",
       "      <td>228</td>\n",
       "      <td>228</td>\n",
       "    </tr>\n",
       "    <tr>\n",
       "      <th>10</th>\n",
       "      <td>224</td>\n",
       "      <td>224</td>\n",
       "      <td>224</td>\n",
       "      <td>223</td>\n",
       "      <td>186</td>\n",
       "      <td>224</td>\n",
       "      <td>224</td>\n",
       "      <td>224</td>\n",
       "      <td>224</td>\n",
       "    </tr>\n",
       "    <tr>\n",
       "      <th>11</th>\n",
       "      <td>230</td>\n",
       "      <td>230</td>\n",
       "      <td>230</td>\n",
       "      <td>230</td>\n",
       "      <td>196</td>\n",
       "      <td>230</td>\n",
       "      <td>230</td>\n",
       "      <td>230</td>\n",
       "      <td>229</td>\n",
       "    </tr>\n",
       "    <tr>\n",
       "      <th>12</th>\n",
       "      <td>252</td>\n",
       "      <td>252</td>\n",
       "      <td>252</td>\n",
       "      <td>252</td>\n",
       "      <td>220</td>\n",
       "      <td>252</td>\n",
       "      <td>252</td>\n",
       "      <td>252</td>\n",
       "      <td>249</td>\n",
       "    </tr>\n",
       "  </tbody>\n",
       "</table>\n",
       "</div>"
      ],
      "text/plain": [
       "       hour  year  location  operator  route  type  aboard  fatalities  \\\n",
       "month                                                                    \n",
       "1       255   255       255       255    220   255     255         255   \n",
       "2       209   209       208       209    180   209     209         209   \n",
       "3       251   251       250       250    208   251     251         251   \n",
       "4       204   204       204       204    163   203     204         204   \n",
       "5       181   181       180       181    158   181     181         181   \n",
       "6       202   202       202       202    174   202     202         202   \n",
       "7       234   234       234       234    202   234     234         234   \n",
       "8       239   239       239       239    211   239     239         239   \n",
       "9       228   228       228       228    200   228     228         228   \n",
       "10      224   224       224       223    186   224     224         224   \n",
       "11      230   230       230       230    196   230     230         230   \n",
       "12      252   252       252       252    220   252     252         252   \n",
       "\n",
       "       summary  \n",
       "month           \n",
       "1          252  \n",
       "2          209  \n",
       "3          250  \n",
       "4          204  \n",
       "5          179  \n",
       "6          200  \n",
       "7          234  \n",
       "8          238  \n",
       "9          228  \n",
       "10         224  \n",
       "11         229  \n",
       "12         249  "
      ]
     },
     "execution_count": 18,
     "metadata": {},
     "output_type": "execute_result"
    }
   ],
   "source": [
    "#Month has the most plan crashes\n",
    "data.groupby('month').count()."
   ]
  },
  {
   "cell_type": "code",
   "execution_count": 19,
   "metadata": {
    "collapsed": false
   },
   "outputs": [
    {
     "data": {
      "text/plain": [
       "583"
      ]
     },
     "execution_count": 19,
     "metadata": {},
     "output_type": "execute_result"
    }
   ],
   "source": [
    "#Highest number of fatalities in a single crash?\n",
    "data['fatalities'].max()"
   ]
  },
  {
   "cell_type": "code",
   "execution_count": 23,
   "metadata": {
    "collapsed": false
   },
   "outputs": [
    {
     "data": {
      "text/plain": [
       "0.98191214470284238"
      ]
     },
     "execution_count": 23,
     "metadata": {},
     "output_type": "execute_result"
    }
   ],
   "source": [
    "#% of crashed flights that had 1 or more fatalities\n",
    "(data[data['fatalities']>=1].count()['year'])/(data['fatalities'].count())"
   ]
  },
  {
   "cell_type": "code",
   "execution_count": 25,
   "metadata": {
    "collapsed": false
   },
   "outputs": [
    {
     "data": {
      "text/plain": [
       "0.8231319223510563"
      ]
     },
     "execution_count": 25,
     "metadata": {},
     "output_type": "execute_result"
    }
   ],
   "source": [
    "#What is the average percent of passengers killed per plan crash\n",
    "(data['fatalities']/data['aboard']).mean()"
   ]
  },
  {
   "cell_type": "code",
   "execution_count": 52,
   "metadata": {
    "collapsed": false
   },
   "outputs": [
    {
     "data": {
      "text/plain": [
       "19         169\n",
       "9          166\n",
       "11         159\n",
       "15         159\n",
       "14         153\n",
       "12         150\n",
       "16         146\n",
       "13         145\n",
       "10         142\n",
       "17         138\n",
       "18         136\n",
       "8          131\n",
       "20         131\n",
       "7          117\n",
       "21          94\n",
       "23          93\n",
       "22          93\n",
       "6           75\n",
       "2           58\n",
       "0           55\n",
       "1           55\n",
       "4           50\n",
       "5           49\n",
       "3           39\n",
       "c14:30       1\n",
       "12'20        1\n",
       "c16:50       1\n",
       "c:09:00      1\n",
       "22'08        1\n",
       "c: 9:40      1\n",
       "Name: hour, dtype: int64"
      ]
     },
     "execution_count": 52,
     "metadata": {},
     "output_type": "execute_result"
    }
   ],
   "source": [
    "#Note the bad inputs on the hour column\n",
    "data['hour'].value_counts()"
   ]
  },
  {
   "cell_type": "code",
   "execution_count": 9,
   "metadata": {
    "collapsed": true
   },
   "outputs": [],
   "source": [
    "bad_hour_list = data[(data['hour']=='c14:30')\n",
    "                         |(data['hour']==\"12'20\")\n",
    "                         |(data['hour']==\"c16:50\")\n",
    "                         |(data['hour']==\"c:09:00\")\n",
    "                         |(data['hour']==\"22'08\")\n",
    "                         |(data['hour']==\"c: 9:40\")].index.values.tolist()"
   ]
  },
  {
   "cell_type": "code",
   "execution_count": 53,
   "metadata": {
    "collapsed": false
   },
   "outputs": [
    {
     "data": {
      "text/html": [
       "<div>\n",
       "<style>\n",
       "    .dataframe thead tr:only-child th {\n",
       "        text-align: right;\n",
       "    }\n",
       "\n",
       "    .dataframe thead th {\n",
       "        text-align: left;\n",
       "    }\n",
       "\n",
       "    .dataframe tbody tr th {\n",
       "        vertical-align: top;\n",
       "    }\n",
       "</style>\n",
       "<table border=\"1\" class=\"dataframe\">\n",
       "  <thead>\n",
       "    <tr style=\"text-align: right;\">\n",
       "      <th></th>\n",
       "      <th>month</th>\n",
       "      <th>hour</th>\n",
       "      <th>year</th>\n",
       "      <th>location</th>\n",
       "      <th>operator</th>\n",
       "      <th>route</th>\n",
       "      <th>type</th>\n",
       "      <th>aboard</th>\n",
       "      <th>fatalities</th>\n",
       "      <th>summary</th>\n",
       "    </tr>\n",
       "  </thead>\n",
       "  <tbody>\n",
       "    <tr>\n",
       "      <th>205</th>\n",
       "      <td>1</td>\n",
       "      <td>c16:50</td>\n",
       "      <td>1957</td>\n",
       "      <td>Ometepe Island, Nicaragua</td>\n",
       "      <td>Lanica</td>\n",
       "      <td>San Carlos - Managua</td>\n",
       "      <td>Douglas DC-3</td>\n",
       "      <td>16</td>\n",
       "      <td>16</td>\n",
       "      <td>The aircraft hit Concepcion volcano while en r...</td>\n",
       "    </tr>\n",
       "    <tr>\n",
       "      <th>345</th>\n",
       "      <td>1</td>\n",
       "      <td>12'20</td>\n",
       "      <td>1961</td>\n",
       "      <td>Off Montauk Point, New York</td>\n",
       "      <td>American Airlines</td>\n",
       "      <td>Training</td>\n",
       "      <td>Boeing 707-123</td>\n",
       "      <td>6</td>\n",
       "      <td>6</td>\n",
       "      <td>Crashed into the AtlantiOcean and exploded.</td>\n",
       "    </tr>\n",
       "    <tr>\n",
       "      <th>904</th>\n",
       "      <td>10</td>\n",
       "      <td>c:09:00</td>\n",
       "      <td>1972</td>\n",
       "      <td>Off Athens, Greece</td>\n",
       "      <td>OlympiAirways</td>\n",
       "      <td>Kerkira - Athens</td>\n",
       "      <td>NAMC YS-11A-202</td>\n",
       "      <td>53</td>\n",
       "      <td>37</td>\n",
       "      <td>Crashed into the sea just short of the runway ...</td>\n",
       "    </tr>\n",
       "    <tr>\n",
       "      <th>1345</th>\n",
       "      <td>12</td>\n",
       "      <td>c14:30</td>\n",
       "      <td>1982</td>\n",
       "      <td>Near San Andres de Bocay, Nicaragua</td>\n",
       "      <td>Military - Nicaraguan Air Force</td>\n",
       "      <td>NaN</td>\n",
       "      <td>Mil Mi-8 (helicopter)</td>\n",
       "      <td>88</td>\n",
       "      <td>84</td>\n",
       "      <td>Shot down by Sandinistan rebels.</td>\n",
       "    </tr>\n",
       "    <tr>\n",
       "      <th>2306</th>\n",
       "      <td>12</td>\n",
       "      <td>22'08</td>\n",
       "      <td>2001</td>\n",
       "      <td>Zurich, Switzerland</td>\n",
       "      <td>Eagle Air</td>\n",
       "      <td>NaN</td>\n",
       "      <td>Cessna 560 Citation V</td>\n",
       "      <td>2</td>\n",
       "      <td>2</td>\n",
       "      <td>After reaching a height of 500 ft. the aircraf...</td>\n",
       "    </tr>\n",
       "    <tr>\n",
       "      <th>2314</th>\n",
       "      <td>1</td>\n",
       "      <td>c: 9:40</td>\n",
       "      <td>2002</td>\n",
       "      <td>Near Milford Sound, New Zealand</td>\n",
       "      <td>Air Fiordland</td>\n",
       "      <td>Te Anau  - Milford Sound</td>\n",
       "      <td>Cessna 207 Skywagon</td>\n",
       "      <td>6</td>\n",
       "      <td>6</td>\n",
       "      <td>The sightseeing plane hit a mountainside at  a...</td>\n",
       "    </tr>\n",
       "  </tbody>\n",
       "</table>\n",
       "</div>"
      ],
      "text/plain": [
       "      month     hour  year                             location  \\\n",
       "205       1   c16:50  1957            Ometepe Island, Nicaragua   \n",
       "345       1    12'20  1961          Off Montauk Point, New York   \n",
       "904      10  c:09:00  1972                   Off Athens, Greece   \n",
       "1345     12   c14:30  1982  Near San Andres de Bocay, Nicaragua   \n",
       "2306     12    22'08  2001                  Zurich, Switzerland   \n",
       "2314      1  c: 9:40  2002      Near Milford Sound, New Zealand   \n",
       "\n",
       "                             operator                     route  \\\n",
       "205                            Lanica      San Carlos - Managua   \n",
       "345                 American Airlines                  Training   \n",
       "904                     OlympiAirways          Kerkira - Athens   \n",
       "1345  Military - Nicaraguan Air Force                       NaN   \n",
       "2306                        Eagle Air                       NaN   \n",
       "2314                    Air Fiordland  Te Anau  - Milford Sound   \n",
       "\n",
       "                       type  aboard  fatalities  \\\n",
       "205            Douglas DC-3      16          16   \n",
       "345          Boeing 707-123       6           6   \n",
       "904         NAMC YS-11A-202      53          37   \n",
       "1345  Mil Mi-8 (helicopter)      88          84   \n",
       "2306  Cessna 560 Citation V       2           2   \n",
       "2314    Cessna 207 Skywagon       6           6   \n",
       "\n",
       "                                                summary  \n",
       "205   The aircraft hit Concepcion volcano while en r...  \n",
       "345         Crashed into the AtlantiOcean and exploded.  \n",
       "904   Crashed into the sea just short of the runway ...  \n",
       "1345                   Shot down by Sandinistan rebels.  \n",
       "2306  After reaching a height of 500 ft. the aircraf...  \n",
       "2314  The sightseeing plane hit a mountainside at  a...  "
      ]
     },
     "execution_count": 53,
     "metadata": {},
     "output_type": "execute_result"
    }
   ],
   "source": [
    "#This filter will return the bad rows\n",
    "data[(data['hour']=='c14:30')\n",
    "     |(data['hour']==\"12'20\")\n",
    "     |(data['hour']==\"c16:50\")\n",
    "    |(data['hour']==\"c:09:00\")\n",
    "    |(data['hour']==\"22'08\")\n",
    "    |(data['hour']==\"c: 9:40\")]"
   ]
  },
  {
   "cell_type": "code",
   "execution_count": 3,
   "metadata": {
    "collapsed": false
   },
   "outputs": [
    {
     "name": "stdout",
     "output_type": "stream",
     "text": [
      "<class 'pandas.core.frame.DataFrame'>\n",
      "RangeIndex: 2709 entries, 0 to 2708\n",
      "Data columns (total 10 columns):\n",
      "month         2709 non-null int64\n",
      "hour          2709 non-null object\n",
      "year          2709 non-null int64\n",
      "location      2706 non-null object\n",
      "operator      2707 non-null object\n",
      "route         2318 non-null object\n",
      "type          2708 non-null object\n",
      "aboard        2709 non-null int64\n",
      "fatalities    2709 non-null int64\n",
      "summary       2696 non-null object\n",
      "dtypes: int64(4), object(6)\n",
      "memory usage: 211.7+ KB\n"
     ]
    }
   ],
   "source": [
    "#Notice Summary, route, location, operator, and type has some null objects.\n",
    "data.info()"
   ]
  },
  {
   "cell_type": "markdown",
   "metadata": {},
   "source": [
    "Will need to clean up the datset before we can use it.\n",
    "To clean up I will:\n",
    "\n",
    "1. Remove the bad hours\n",
    "2. Remove all of the null objects\n",
    "3. Turn the 3 separate columns (Hour, Month, Year) into a single date time column and turn that into an index."
   ]
  },
  {
   "cell_type": "markdown",
   "metadata": {},
   "source": [
    "## Clean Up"
   ]
  },
  {
   "cell_type": "code",
   "execution_count": 13,
   "metadata": {
    "collapsed": false
   },
   "outputs": [
    {
     "data": {
      "text/html": [
       "<div>\n",
       "<table border=\"1\" class=\"dataframe\">\n",
       "  <thead>\n",
       "    <tr style=\"text-align: right;\">\n",
       "      <th></th>\n",
       "      <th>hour_month_year</th>\n",
       "      <th>location</th>\n",
       "      <th>operator</th>\n",
       "      <th>route</th>\n",
       "      <th>type</th>\n",
       "      <th>aboard</th>\n",
       "      <th>fatalities</th>\n",
       "      <th>summary</th>\n",
       "    </tr>\n",
       "  </thead>\n",
       "  <tbody>\n",
       "    <tr>\n",
       "      <th>0</th>\n",
       "      <td>12 1 1950</td>\n",
       "      <td>Near Vacas, Bolivia</td>\n",
       "      <td>Military - Bolivian Air Force</td>\n",
       "      <td>Valle grande - Cochabamba</td>\n",
       "      <td>Douglas C-47</td>\n",
       "      <td>32</td>\n",
       "      <td>32</td>\n",
       "      <td>Crashed while en route in the Andes mountains ...</td>\n",
       "    </tr>\n",
       "    <tr>\n",
       "      <th>1</th>\n",
       "      <td>20 3 1950</td>\n",
       "      <td>Minneapolis, Minnesota</td>\n",
       "      <td>Northwest Orient Airlines</td>\n",
       "      <td>Rochester Minn. - Minneapolis</td>\n",
       "      <td>Martin 202</td>\n",
       "      <td>13</td>\n",
       "      <td>13</td>\n",
       "      <td>Crashed into a flag pole, well marked by red n...</td>\n",
       "    </tr>\n",
       "    <tr>\n",
       "      <th>2</th>\n",
       "      <td>14 3 1950</td>\n",
       "      <td>Llandow Airport, Cardiff, Wales</td>\n",
       "      <td>Fairflight Ltd.</td>\n",
       "      <td>Llandow - Dublin</td>\n",
       "      <td>Avro 689 Tudor 5</td>\n",
       "      <td>83</td>\n",
       "      <td>80</td>\n",
       "      <td>During the approach to Runway 28 at Llandow Ai...</td>\n",
       "    </tr>\n",
       "    <tr>\n",
       "      <th>3</th>\n",
       "      <td>23 4 1950</td>\n",
       "      <td>Near Atsugi, Japan</td>\n",
       "      <td>Military - U.S. Air Force</td>\n",
       "      <td>Philippines - Japan</td>\n",
       "      <td>Douglas C-54D</td>\n",
       "      <td>35</td>\n",
       "      <td>35</td>\n",
       "      <td>Flew off its prescribed course and crashed int...</td>\n",
       "    </tr>\n",
       "    <tr>\n",
       "      <th>4</th>\n",
       "      <td>20 5 1950</td>\n",
       "      <td>Lagens Air Force Base, Azores</td>\n",
       "      <td>Military - U.S. Air Force</td>\n",
       "      <td>Bermuda - England</td>\n",
       "      <td>Boeing B-29</td>\n",
       "      <td>16</td>\n",
       "      <td>16</td>\n",
       "      <td>Crashed while attempting to land after being d...</td>\n",
       "    </tr>\n",
       "  </tbody>\n",
       "</table>\n",
       "</div>"
      ],
      "text/plain": [
       "  hour_month_year                         location  \\\n",
       "0       12 1 1950              Near Vacas, Bolivia   \n",
       "1       20 3 1950           Minneapolis, Minnesota   \n",
       "2       14 3 1950  Llandow Airport, Cardiff, Wales   \n",
       "3       23 4 1950               Near Atsugi, Japan   \n",
       "4       20 5 1950    Lagens Air Force Base, Azores   \n",
       "\n",
       "                        operator                          route  \\\n",
       "0  Military - Bolivian Air Force      Valle grande - Cochabamba   \n",
       "1      Northwest Orient Airlines  Rochester Minn. - Minneapolis   \n",
       "2                Fairflight Ltd.               Llandow - Dublin   \n",
       "3      Military - U.S. Air Force            Philippines - Japan   \n",
       "4      Military - U.S. Air Force              Bermuda - England   \n",
       "\n",
       "               type  aboard  fatalities  \\\n",
       "0      Douglas C-47      32          32   \n",
       "1        Martin 202      13          13   \n",
       "2  Avro 689 Tudor 5      83          80   \n",
       "3     Douglas C-54D      35          35   \n",
       "4       Boeing B-29      16          16   \n",
       "\n",
       "                                             summary  \n",
       "0  Crashed while en route in the Andes mountains ...  \n",
       "1  Crashed into a flag pole, well marked by red n...  \n",
       "2  During the approach to Runway 28 at Llandow Ai...  \n",
       "3  Flew off its prescribed course and crashed int...  \n",
       "4  Crashed while attempting to land after being d...  "
      ]
     },
     "execution_count": 13,
     "metadata": {},
     "output_type": "execute_result"
    }
   ],
   "source": [
    "#Create a new dataframe\n",
    "df = pd.read_csv('plane_crashes_data.csv', parse_dates=[['hour','month','year']] )\n",
    "\n",
    "#Decided to drop the data to deal with the bad hours. These are the indexes of the bad hours.\n",
    "#df.drop([205,345,904,1345,2306,2314], inplace=True)\n",
    "df.drop(bad_hour_list, inplace=True)\n",
    "df.head()"
   ]
  },
  {
   "cell_type": "code",
   "execution_count": 15,
   "metadata": {
    "collapsed": false
   },
   "outputs": [
    {
     "name": "stdout",
     "output_type": "stream",
     "text": [
      "<class 'pandas.core.frame.DataFrame'>\n",
      "Int64Index: 2703 entries, 0 to 2708\n",
      "Data columns (total 8 columns):\n",
      "hour_month_year    2703 non-null object\n",
      "location           2700 non-null object\n",
      "operator           2701 non-null object\n",
      "route              2314 non-null object\n",
      "type               2702 non-null object\n",
      "aboard             2703 non-null int64\n",
      "fatalities         2703 non-null int64\n",
      "summary            2690 non-null object\n",
      "dtypes: int64(2), object(6)\n",
      "memory usage: 190.1+ KB\n"
     ]
    }
   ],
   "source": [
    "df.info()"
   ]
  },
  {
   "cell_type": "code",
   "execution_count": 18,
   "metadata": {
    "collapsed": true
   },
   "outputs": [],
   "source": [
    "df.dropna(inplace=True)"
   ]
  },
  {
   "cell_type": "code",
   "execution_count": 20,
   "metadata": {
    "collapsed": false
   },
   "outputs": [
    {
     "name": "stdout",
     "output_type": "stream",
     "text": [
      "<class 'pandas.core.frame.DataFrame'>\n",
      "Int64Index: 2300 entries, 0 to 2708\n",
      "Data columns (total 8 columns):\n",
      "hour_month_year    2300 non-null object\n",
      "location           2300 non-null object\n",
      "operator           2300 non-null object\n",
      "route              2300 non-null object\n",
      "type               2300 non-null object\n",
      "aboard             2300 non-null int64\n",
      "fatalities         2300 non-null int64\n",
      "summary            2300 non-null object\n",
      "dtypes: int64(2), object(6)\n",
      "memory usage: 161.7+ KB\n"
     ]
    }
   ],
   "source": [
    "df.info()"
   ]
  },
  {
   "cell_type": "code",
   "execution_count": 36,
   "metadata": {
    "collapsed": true
   },
   "outputs": [],
   "source": [
    "df = pd.read_csv('plane_crashes_data.csv', parse_dates=[['hour','month','year']] )"
   ]
  },
  {
   "cell_type": "code",
   "execution_count": 37,
   "metadata": {
    "collapsed": false
   },
   "outputs": [
    {
     "data": {
      "text/html": [
       "<div>\n",
       "<style>\n",
       "    .dataframe thead tr:only-child th {\n",
       "        text-align: right;\n",
       "    }\n",
       "\n",
       "    .dataframe thead th {\n",
       "        text-align: left;\n",
       "    }\n",
       "\n",
       "    .dataframe tbody tr th {\n",
       "        vertical-align: top;\n",
       "    }\n",
       "</style>\n",
       "<table border=\"1\" class=\"dataframe\">\n",
       "  <thead>\n",
       "    <tr style=\"text-align: right;\">\n",
       "      <th></th>\n",
       "      <th>hour_month_year</th>\n",
       "      <th>location</th>\n",
       "      <th>operator</th>\n",
       "      <th>route</th>\n",
       "      <th>type</th>\n",
       "      <th>aboard</th>\n",
       "      <th>fatalities</th>\n",
       "      <th>summary</th>\n",
       "      <th>timestamp</th>\n",
       "    </tr>\n",
       "  </thead>\n",
       "  <tbody>\n",
       "    <tr>\n",
       "      <th>0</th>\n",
       "      <td>12 1 1950</td>\n",
       "      <td>Near Vacas, Bolivia</td>\n",
       "      <td>Military - Bolivian Air Force</td>\n",
       "      <td>Valle grande - Cochabamba</td>\n",
       "      <td>Douglas C-47</td>\n",
       "      <td>32</td>\n",
       "      <td>32</td>\n",
       "      <td>Crashed while en route in the Andes mountains ...</td>\n",
       "      <td>1950-01-01 12:00:00</td>\n",
       "    </tr>\n",
       "    <tr>\n",
       "      <th>1</th>\n",
       "      <td>20 3 1950</td>\n",
       "      <td>Minneapolis, Minnesota</td>\n",
       "      <td>Northwest Orient Airlines</td>\n",
       "      <td>Rochester Minn. - Minneapolis</td>\n",
       "      <td>Martin 202</td>\n",
       "      <td>13</td>\n",
       "      <td>13</td>\n",
       "      <td>Crashed into a flag pole, well marked by red n...</td>\n",
       "      <td>1950-03-01 20:00:00</td>\n",
       "    </tr>\n",
       "    <tr>\n",
       "      <th>2</th>\n",
       "      <td>14 3 1950</td>\n",
       "      <td>Llandow Airport, Cardiff, Wales</td>\n",
       "      <td>Fairflight Ltd.</td>\n",
       "      <td>Llandow - Dublin</td>\n",
       "      <td>Avro 689 Tudor 5</td>\n",
       "      <td>83</td>\n",
       "      <td>80</td>\n",
       "      <td>During the approach to Runway 28 at Llandow Ai...</td>\n",
       "      <td>1950-03-01 14:00:00</td>\n",
       "    </tr>\n",
       "    <tr>\n",
       "      <th>3</th>\n",
       "      <td>23 4 1950</td>\n",
       "      <td>Near Atsugi, Japan</td>\n",
       "      <td>Military - U.S. Air Force</td>\n",
       "      <td>Philippines - Japan</td>\n",
       "      <td>Douglas C-54D</td>\n",
       "      <td>35</td>\n",
       "      <td>35</td>\n",
       "      <td>Flew off its prescribed course and crashed int...</td>\n",
       "      <td>1950-04-01 23:00:00</td>\n",
       "    </tr>\n",
       "    <tr>\n",
       "      <th>4</th>\n",
       "      <td>20 5 1950</td>\n",
       "      <td>Lagens Air Force Base, Azores</td>\n",
       "      <td>Military - U.S. Air Force</td>\n",
       "      <td>Bermuda - England</td>\n",
       "      <td>Boeing B-29</td>\n",
       "      <td>16</td>\n",
       "      <td>16</td>\n",
       "      <td>Crashed while attempting to land after being d...</td>\n",
       "      <td>1950-05-01 20:00:00</td>\n",
       "    </tr>\n",
       "  </tbody>\n",
       "</table>\n",
       "</div>"
      ],
      "text/plain": [
       "  hour_month_year                         location  \\\n",
       "0       12 1 1950              Near Vacas, Bolivia   \n",
       "1       20 3 1950           Minneapolis, Minnesota   \n",
       "2       14 3 1950  Llandow Airport, Cardiff, Wales   \n",
       "3       23 4 1950               Near Atsugi, Japan   \n",
       "4       20 5 1950    Lagens Air Force Base, Azores   \n",
       "\n",
       "                        operator                          route  \\\n",
       "0  Military - Bolivian Air Force      Valle grande - Cochabamba   \n",
       "1      Northwest Orient Airlines  Rochester Minn. - Minneapolis   \n",
       "2                Fairflight Ltd.               Llandow - Dublin   \n",
       "3      Military - U.S. Air Force            Philippines - Japan   \n",
       "4      Military - U.S. Air Force              Bermuda - England   \n",
       "\n",
       "               type  aboard  fatalities  \\\n",
       "0      Douglas C-47      32          32   \n",
       "1        Martin 202      13          13   \n",
       "2  Avro 689 Tudor 5      83          80   \n",
       "3     Douglas C-54D      35          35   \n",
       "4       Boeing B-29      16          16   \n",
       "\n",
       "                                             summary           timestamp  \n",
       "0  Crashed while en route in the Andes mountains ... 1950-01-01 12:00:00  \n",
       "1  Crashed into a flag pole, well marked by red n... 1950-03-01 20:00:00  \n",
       "2  During the approach to Runway 28 at Llandow Ai... 1950-03-01 14:00:00  \n",
       "3  Flew off its prescribed course and crashed int... 1950-04-01 23:00:00  \n",
       "4  Crashed while attempting to land after being d... 1950-05-01 20:00:00  "
      ]
     },
     "execution_count": 37,
     "metadata": {},
     "output_type": "execute_result"
    }
   ],
   "source": [
    "#Goal: I would like to combine the month, hour and year columns, turn it into a datetime, and then turn to index\n",
    "df['timestamp'] = pd.to_datetime(df['hour_month_year'], format= \"%H %m %Y\", errors='coerce')\n",
    "\n",
    "  \n",
    "    "
   ]
  },
  {
   "cell_type": "code",
   "execution_count": 39,
   "metadata": {
    "collapsed": false
   },
   "outputs": [
    {
     "data": {
      "text/html": [
       "<div>\n",
       "<style>\n",
       "    .dataframe thead tr:only-child th {\n",
       "        text-align: right;\n",
       "    }\n",
       "\n",
       "    .dataframe thead th {\n",
       "        text-align: left;\n",
       "    }\n",
       "\n",
       "    .dataframe tbody tr th {\n",
       "        vertical-align: top;\n",
       "    }\n",
       "</style>\n",
       "<table border=\"1\" class=\"dataframe\">\n",
       "  <thead>\n",
       "    <tr style=\"text-align: right;\">\n",
       "      <th></th>\n",
       "      <th>hour_month_year</th>\n",
       "      <th>location</th>\n",
       "      <th>operator</th>\n",
       "      <th>route</th>\n",
       "      <th>type</th>\n",
       "      <th>aboard</th>\n",
       "      <th>fatalities</th>\n",
       "      <th>summary</th>\n",
       "    </tr>\n",
       "    <tr>\n",
       "      <th>timestamp</th>\n",
       "      <th></th>\n",
       "      <th></th>\n",
       "      <th></th>\n",
       "      <th></th>\n",
       "      <th></th>\n",
       "      <th></th>\n",
       "      <th></th>\n",
       "      <th></th>\n",
       "    </tr>\n",
       "  </thead>\n",
       "  <tbody>\n",
       "    <tr>\n",
       "      <th>1950-01-01 12:00:00</th>\n",
       "      <td>12 1 1950</td>\n",
       "      <td>Near Vacas, Bolivia</td>\n",
       "      <td>Military - Bolivian Air Force</td>\n",
       "      <td>Valle grande - Cochabamba</td>\n",
       "      <td>Douglas C-47</td>\n",
       "      <td>32</td>\n",
       "      <td>32</td>\n",
       "      <td>Crashed while en route in the Andes mountains ...</td>\n",
       "    </tr>\n",
       "    <tr>\n",
       "      <th>1950-03-01 20:00:00</th>\n",
       "      <td>20 3 1950</td>\n",
       "      <td>Minneapolis, Minnesota</td>\n",
       "      <td>Northwest Orient Airlines</td>\n",
       "      <td>Rochester Minn. - Minneapolis</td>\n",
       "      <td>Martin 202</td>\n",
       "      <td>13</td>\n",
       "      <td>13</td>\n",
       "      <td>Crashed into a flag pole, well marked by red n...</td>\n",
       "    </tr>\n",
       "    <tr>\n",
       "      <th>1950-03-01 14:00:00</th>\n",
       "      <td>14 3 1950</td>\n",
       "      <td>Llandow Airport, Cardiff, Wales</td>\n",
       "      <td>Fairflight Ltd.</td>\n",
       "      <td>Llandow - Dublin</td>\n",
       "      <td>Avro 689 Tudor 5</td>\n",
       "      <td>83</td>\n",
       "      <td>80</td>\n",
       "      <td>During the approach to Runway 28 at Llandow Ai...</td>\n",
       "    </tr>\n",
       "    <tr>\n",
       "      <th>1950-04-01 23:00:00</th>\n",
       "      <td>23 4 1950</td>\n",
       "      <td>Near Atsugi, Japan</td>\n",
       "      <td>Military - U.S. Air Force</td>\n",
       "      <td>Philippines - Japan</td>\n",
       "      <td>Douglas C-54D</td>\n",
       "      <td>35</td>\n",
       "      <td>35</td>\n",
       "      <td>Flew off its prescribed course and crashed int...</td>\n",
       "    </tr>\n",
       "    <tr>\n",
       "      <th>1950-05-01 20:00:00</th>\n",
       "      <td>20 5 1950</td>\n",
       "      <td>Lagens Air Force Base, Azores</td>\n",
       "      <td>Military - U.S. Air Force</td>\n",
       "      <td>Bermuda - England</td>\n",
       "      <td>Boeing B-29</td>\n",
       "      <td>16</td>\n",
       "      <td>16</td>\n",
       "      <td>Crashed while attempting to land after being d...</td>\n",
       "    </tr>\n",
       "  </tbody>\n",
       "</table>\n",
       "</div>"
      ],
      "text/plain": [
       "                    hour_month_year                         location  \\\n",
       "timestamp                                                              \n",
       "1950-01-01 12:00:00       12 1 1950              Near Vacas, Bolivia   \n",
       "1950-03-01 20:00:00       20 3 1950           Minneapolis, Minnesota   \n",
       "1950-03-01 14:00:00       14 3 1950  Llandow Airport, Cardiff, Wales   \n",
       "1950-04-01 23:00:00       23 4 1950               Near Atsugi, Japan   \n",
       "1950-05-01 20:00:00       20 5 1950    Lagens Air Force Base, Azores   \n",
       "\n",
       "                                          operator  \\\n",
       "timestamp                                            \n",
       "1950-01-01 12:00:00  Military - Bolivian Air Force   \n",
       "1950-03-01 20:00:00      Northwest Orient Airlines   \n",
       "1950-03-01 14:00:00                Fairflight Ltd.   \n",
       "1950-04-01 23:00:00      Military - U.S. Air Force   \n",
       "1950-05-01 20:00:00      Military - U.S. Air Force   \n",
       "\n",
       "                                             route              type  aboard  \\\n",
       "timestamp                                                                      \n",
       "1950-01-01 12:00:00      Valle grande - Cochabamba      Douglas C-47      32   \n",
       "1950-03-01 20:00:00  Rochester Minn. - Minneapolis        Martin 202      13   \n",
       "1950-03-01 14:00:00               Llandow - Dublin  Avro 689 Tudor 5      83   \n",
       "1950-04-01 23:00:00            Philippines - Japan     Douglas C-54D      35   \n",
       "1950-05-01 20:00:00              Bermuda - England       Boeing B-29      16   \n",
       "\n",
       "                     fatalities  \\\n",
       "timestamp                         \n",
       "1950-01-01 12:00:00          32   \n",
       "1950-03-01 20:00:00          13   \n",
       "1950-03-01 14:00:00          80   \n",
       "1950-04-01 23:00:00          35   \n",
       "1950-05-01 20:00:00          16   \n",
       "\n",
       "                                                               summary  \n",
       "timestamp                                                               \n",
       "1950-01-01 12:00:00  Crashed while en route in the Andes mountains ...  \n",
       "1950-03-01 20:00:00  Crashed into a flag pole, well marked by red n...  \n",
       "1950-03-01 14:00:00  During the approach to Runway 28 at Llandow Ai...  \n",
       "1950-04-01 23:00:00  Flew off its prescribed course and crashed int...  \n",
       "1950-05-01 20:00:00  Crashed while attempting to land after being d...  "
      ]
     },
     "execution_count": 39,
     "metadata": {},
     "output_type": "execute_result"
    }
   ],
   "source": [
    "df.set_index('timestamp', inplace=True)\n",
    "df.head()"
   ]
  },
  {
   "cell_type": "markdown",
   "metadata": {},
   "source": [
    "## Cleaned Up Data"
   ]
  },
  {
   "cell_type": "code",
   "execution_count": null,
   "metadata": {
    "collapsed": true
   },
   "outputs": [],
   "source": []
  }
 ],
 "metadata": {
  "kernelspec": {
   "display_name": "Python 3",
   "language": "python",
   "name": "python3"
  },
  "language_info": {
   "codemirror_mode": {
    "name": "ipython",
    "version": 3
   },
   "file_extension": ".py",
   "mimetype": "text/x-python",
   "name": "python",
   "nbconvert_exporter": "python",
   "pygments_lexer": "ipython3",
   "version": "3.6.0"
  }
 },
 "nbformat": 4,
 "nbformat_minor": 2
}
