{
 "cells": [
  {
   "cell_type": "markdown",
   "metadata": {},
   "source": [
    "### In each of the scenarios, find possible shortcomings of the data sources to answer the given question. What could be done to either adjust the analysis or reframe the question so that you can answer it accurately?"
   ]
  },
  {
   "cell_type": "markdown",
   "metadata": {},
   "source": [
    "Data Source: Amsterdam availability data scraped from AirBnB on December 24th. Question: What are the popular neighborhoods in Amsterdam?\n",
    "\n",
    "There are a few problems with this:\n",
    "\n",
    "1. Data was scraped on Deceber 24th, the day before the Christmas holiday. This is not a true reflection on popular neigborhoods unless the analyst was trying to determine the popular neighborhoods for tourist during holidays.\n",
    "\n",
    "2. Another issue is using AirBnB data. ITs typically for tourists, so that can skew the results."
   ]
  },
  {
   "cell_type": "markdown",
   "metadata": {},
   "source": [
    "Data Source: Mental health services use on September 12, 2001 in San Francisco, CA and New York City, NY. Question: How do patterns of mental health service use vary between cities?\n",
    "        \n",
    "Issues with this:\n",
    "1. Data was gathered after Sept 11, 2001 a very horrific terrorist attack"
   ]
  },
  {
   "cell_type": "markdown",
   "metadata": {},
   "source": [
    "Data Source: Armenian Pub Survey. Question: What are the most common reasons Armenians visit local pubs?\n",
    "\n",
    "Issues with this:\n",
    "1. The survery is online done by university students, so the results may be skewed towards a more younger crowd"
   ]
  },
  {
   "cell_type": "code",
   "execution_count": null,
   "metadata": {
    "collapsed": true
   },
   "outputs": [],
   "source": []
  }
 ],
 "metadata": {
  "kernelspec": {
   "display_name": "Python 3",
   "language": "python",
   "name": "python3"
  },
  "language_info": {
   "codemirror_mode": {
    "name": "ipython",
    "version": 3
   },
   "file_extension": ".py",
   "mimetype": "text/x-python",
   "name": "python",
   "nbconvert_exporter": "python",
   "pygments_lexer": "ipython3",
   "version": "3.6.1"
  }
 },
 "nbformat": 4,
 "nbformat_minor": 2
}
